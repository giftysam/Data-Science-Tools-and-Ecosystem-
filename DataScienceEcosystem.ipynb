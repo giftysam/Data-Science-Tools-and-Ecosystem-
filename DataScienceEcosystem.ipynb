{
 "cells": [
  {
   "cell_type": "markdown",
   "id": "2f821c03",
   "metadata": {},
   "source": [
    "<h1> Data Science Tools and Ecosystem </h1>"
   ]
  },
  {
   "cell_type": "markdown",
   "id": "6fe50681",
   "metadata": {},
   "source": [
    "In this notebook, Data Science Tools and Ecosystem are summarized. We will give an example of the commonly used languaguages and libraies in data science"
   ]
  },
  {
   "cell_type": "markdown",
   "id": "1d4c860d",
   "metadata": {},
   "source": [
    "**Objectives**\n",
    "\n",
    "* know some commonly used languages in data science\n",
    "* know some open-source tools used in data science\n",
    "* know some commonly used libraries in data science\n",
    "* know how to use and work in jupyter notebook"
   ]
  },
  {
   "cell_type": "markdown",
   "id": "ed2a31eb",
   "metadata": {},
   "source": [
    "Some of the popular languages that Data Scientists use are:\n",
    "\n",
    "1. Python\n",
    "2. R\n",
    "3. Scala\n",
    "4. SQL"
   ]
  },
  {
   "cell_type": "markdown",
   "id": "2203e1ee",
   "metadata": {},
   "source": [
    "Some of the commonly used libraries used by Data Scientists include:\n",
    "\n",
    "1. Pandas\n",
    "2. matplotlib\n",
    "3. tensorflow\n",
    "4. Pytorch\n",
    "5. scikit-learn"
   ]
  },
  {
   "cell_type": "markdown",
   "id": "fc1d53c6",
   "metadata": {},
   "source": [
    "Three development environment open source tools used in data science.\n",
    "\n",
    "|Data Science Tools|\n",
    "|--|\n",
    "|IBM Watson Studio|\n",
    "|Jupyter Lab|\n",
    "|Rstudio|\n",
    "|Apache Zepplin|\n"
   ]
  },
  {
   "cell_type": "markdown",
   "id": "677c3bf8",
   "metadata": {},
   "source": [
    "<h3> Below are a few examples of evaluating arithmetic expressions in Python </h3>"
   ]
  },
  {
   "cell_type": "code",
   "execution_count": 1,
   "id": "26e12083",
   "metadata": {},
   "outputs": [
    {
     "data": {
      "text/plain": [
       "17"
      ]
     },
     "execution_count": 1,
     "metadata": {},
     "output_type": "execute_result"
    }
   ],
   "source": [
    "#This a simple arithmetic expression to mutiply then add integers\n",
    "\n",
    "(3*4)+5"
   ]
  },
  {
   "cell_type": "code",
   "execution_count": 2,
   "id": "e4a959b6",
   "metadata": {},
   "outputs": [
    {
     "name": "stdout",
     "output_type": "stream",
     "text": [
      "200 minutes is equivalent to 3.3333 hours\n"
     ]
    }
   ],
   "source": [
    "#This will convert 200 minutes to hours by diving by 60\n",
    "\n",
    "x = 200/60\n",
    "x = round(x,4)\n",
    "\n",
    "print (\"200 minutes is equivalent to\", x , \"hours\")"
   ]
  },
  {
   "cell_type": "markdown",
   "id": "a633ebf1",
   "metadata": {},
   "source": [
    "<h2> Author </h2>\n",
    "\n",
    "Gifty Sam"
   ]
  }
 ],
 "metadata": {
  "kernelspec": {
   "display_name": "Python 3 (ipykernel)",
   "language": "python",
   "name": "python3"
  },
  "language_info": {
   "codemirror_mode": {
    "name": "ipython",
    "version": 3
   },
   "file_extension": ".py",
   "mimetype": "text/x-python",
   "name": "python",
   "nbconvert_exporter": "python",
   "pygments_lexer": "ipython3",
   "version": "3.9.13"
  }
 },
 "nbformat": 4,
 "nbformat_minor": 5
}
